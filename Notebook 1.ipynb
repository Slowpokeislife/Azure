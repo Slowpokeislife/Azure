{
  "cells": [
    {
      "cell_type": "code",
      "source": [
        "# Ruta del archivo en tu Azure Storage\r\n",
        "file_path = \"abfss://users@storejaut.dfs.core.windows.net/synapse/workspaces/synapse-ejemplo-jaut/taxi_zone_lookup.csv\"\r\n",
        "\r\n",
        "# Leer el archivo CSV en un DataFrame de Spark\r\n",
        "lookupexample = spark.read.format(\"csv\") \\\r\n",
        "    .option(\"header\", \"true\") \\\r\n",
        "    .option(\"inferSchema\", \"true\") \\\r\n",
        "    .load(file_path)\r\n",
        "\r\n",
        "# Mostrar el esquema del DataFrame\r\n",
        "lookupexample.printSchema()\r\n",
        "\r\n",
        "# Mostrar las primeras filas\r\n",
        "lookupexample.show()\r\n",
        "\r\n",
        "\r\n"
      ],
      "outputs": [
        {
          "output_type": "display_data",
          "data": {
            "application/vnd.livy.statement-meta+json": {
              "spark_pool": "clusterprueba",
              "statement_id": 7,
              "statement_ids": [
                7
              ],
              "state": "finished",
              "livy_statement_state": "available",
              "spark_jobs": null,
              "session_id": "0",
              "normalized_state": "finished",
              "queued_time": "2024-12-06T01:25:55.0953784Z",
              "session_start_time": null,
              "execution_start_time": "2024-12-06T01:25:55.9353043Z",
              "execution_finish_time": "2024-12-06T01:25:58.7765302Z",
              "parent_msg_id": "82a4e0bb-020f-48bf-9134-046c6a1a28c4"
            },
            "text/plain": "StatementMeta(clusterprueba, 0, 7, Finished, Available, Finished)"
          },
          "metadata": {}
        },
        {
          "output_type": "stream",
          "name": "stdout",
          "text": [
            "root\n |-- LocationID: integer (nullable = true)\n |-- Borough: string (nullable = true)\n |-- Zone: string (nullable = true)\n |-- service_zone: string (nullable = true)\n\n+----------+-------------+--------------------+------------+\n|LocationID|      Borough|                Zone|service_zone|\n+----------+-------------+--------------------+------------+\n|         1|          EWR|      Newark Airport|         EWR|\n|         2|       Queens|         Jamaica Bay|   Boro Zone|\n|         3|        Bronx|Allerton/Pelham G...|   Boro Zone|\n|         4|    Manhattan|       Alphabet City| Yellow Zone|\n|         5|Staten Island|       Arden Heights|   Boro Zone|\n|         6|Staten Island|Arrochar/Fort Wad...|   Boro Zone|\n|         7|       Queens|             Astoria|   Boro Zone|\n|         8|       Queens|        Astoria Park|   Boro Zone|\n|         9|       Queens|          Auburndale|   Boro Zone|\n|        10|       Queens|        Baisley Park|   Boro Zone|\n|        11|     Brooklyn|          Bath Beach|   Boro Zone|\n|        12|    Manhattan|        Battery Park| Yellow Zone|\n|        13|    Manhattan|   Battery Park City| Yellow Zone|\n|        14|     Brooklyn|           Bay Ridge|   Boro Zone|\n|        15|       Queens|Bay Terrace/Fort ...|   Boro Zone|\n|        16|       Queens|             Bayside|   Boro Zone|\n|        17|     Brooklyn|             Bedford|   Boro Zone|\n|        18|        Bronx|        Bedford Park|   Boro Zone|\n|        19|       Queens|           Bellerose|   Boro Zone|\n|        20|        Bronx|             Belmont|   Boro Zone|\n+----------+-------------+--------------------+------------+\nonly showing top 20 rows\n\n"
          ]
        }
      ],
      "execution_count": 7,
      "metadata": {}
    },
    {
      "cell_type": "code",
      "source": [
        "# Azure storage access info\r\n",
        "blob_account_name = \"azureopendatastorage\"\r\n",
        "blob_container_name = \"nyctlc\"\r\n",
        "blob_relative_path = \"yellow\"\r\n",
        "blob_sas_token = r\"\"\r\n",
        "\r\n",
        "# Allow SPARK to read from Blob remotely\r\n",
        "wasbs_path = 'wasbs://%s@%s.blob.core.windows.net/%s' % (blob_container_name, blob_account_name, blob_relative_path)\r\n",
        "spark.conf.set(\r\n",
        "  'fs.azure.sas.%s.%s.blob.core.windows.net' % (blob_container_name, blob_account_name),\r\n",
        "  blob_sas_token)\r\n",
        "print('Remote blob path: ' + wasbs_path)\r\n",
        "\r\n",
        "# SPARK read parquet, note that it won't load any data yet by now\r\n",
        "yellowtaxis = spark.read.parquet(wasbs_path)\r\n",
        "print('Register the DataFrame as a SQL temporary view: source')\r\n",
        "yellowtaxis.createOrReplaceTempView('source')\r\n",
        "\r\n",
        "yellowtaxis.show()"
      ],
      "outputs": [
        {
          "output_type": "display_data",
          "data": {
            "application/vnd.livy.statement-meta+json": {
              "spark_pool": "clusterprueba",
              "statement_id": 9,
              "statement_ids": [
                9
              ],
              "state": "finished",
              "livy_statement_state": "available",
              "spark_jobs": null,
              "session_id": "0",
              "normalized_state": "finished",
              "queued_time": "2024-12-06T01:30:18.2956957Z",
              "session_start_time": null,
              "execution_start_time": "2024-12-06T01:30:18.4227224Z",
              "execution_finish_time": "2024-12-06T01:30:27.0811893Z",
              "parent_msg_id": "0a11f41c-f6d1-462f-a462-cd9206858a9b"
            },
            "text/plain": "StatementMeta(clusterprueba, 0, 9, Finished, Available, Finished)"
          },
          "metadata": {}
        },
        {
          "output_type": "stream",
          "name": "stdout",
          "text": [
            "Remote blob path: wasbs://nyctlc@azureopendatastorage.blob.core.windows.net/yellow\nRegister the DataFrame as a SQL temporary view: source\n+--------+-------------------+-------------------+--------------+------------+------------+------------+----------+---------+----------+---------+----------+---------------+-----------+----------+-----+------+--------------------+---------+-----------+-----------+------+-------+\n|vendorID| tpepPickupDateTime|tpepDropoffDateTime|passengerCount|tripDistance|puLocationId|doLocationId|  startLon| startLat|    endLon|   endLat|rateCodeId|storeAndFwdFlag|paymentType|fareAmount|extra|mtaTax|improvementSurcharge|tipAmount|tollsAmount|totalAmount|puYear|puMonth|\n+--------+-------------------+-------------------+--------------+------------+------------+------------+----------+---------+----------+---------+----------+---------------+-----------+----------+-----+------+--------------------+---------+-----------+-----------+------+-------+\n|     CMT|2012-02-29 23:53:14|2012-03-01 00:00:43|             1|         2.1|        null|        null|-73.980494|40.730601|-73.983532|40.752311|         1|              N|        CSH|       7.3|  0.5|   0.5|                null|      0.0|        0.0|        8.3|  2012|      3|\n|     VTS|2012-03-17 08:01:00|2012-03-17 08:15:00|             1|       11.06|        null|        null|-73.986067|40.699862|-73.814838|40.737052|         1|           null|        CRD|      24.5|  0.0|   0.5|                null|      4.9|        0.0|       29.9|  2012|      3|\n|     CMT|2012-02-29 23:58:51|2012-03-01 00:15:48|             1|         3.4|        null|        null|-73.968967|40.754359|-73.957048|40.743289|         1|              N|        CRD|      12.5|  0.5|   0.5|                null|      1.5|        0.0|       15.0|  2012|      3|\n|     CMT|2012-03-01 19:24:16|2012-03-01 19:31:22|             1|         1.3|        null|        null| -73.99374| 40.75307|-74.005428|40.741118|         1|              N|        CRD|       6.1|  1.0|   0.5|                null|      0.0|        0.0|        7.6|  2012|      3|\n|     CMT|2012-02-29 23:46:32|2012-03-01 00:05:18|             3|         2.0|        null|        null|-73.973723|40.752323|-73.948275|40.769413|         1|              N|        CSH|      11.7|  0.5|   0.5|                null|      0.0|        0.0|       12.7|  2012|      3|\n|     VTS|2012-03-07 15:17:00|2012-03-07 15:26:00|             5|        1.87|        null|        null|-73.988237| 40.75929| -73.97114| 40.78275|         1|           null|        CSH|       7.7|  0.0|   0.5|                null|      0.0|        0.0|        8.2|  2012|      3|\n|     CMT|2012-02-29 23:41:58|2012-03-01 00:02:29|             1|        12.4|        null|        null|-73.954536|40.727742|-73.768994|40.760246|         1|              N|        CSH|      28.5|  0.5|   0.5|                null|      0.0|        0.0|       29.5|  2012|      3|\n|     VTS|2012-03-18 15:21:00|2012-03-18 15:32:00|             6|        2.51|        null|        null|-74.001705|40.732345|-73.974888|40.750835|         1|           null|        CSH|       8.9|  0.0|   0.5|                null|      0.0|        0.0|        9.4|  2012|      3|\n|     CMT|2012-02-29 23:47:08|2012-03-01 00:06:42|             4|         6.3|        null|        null|-73.992319|40.724503|-73.923589| 40.76113|         1|              N|        CRD|      16.5|  0.5|   0.5|                null|     4.37|        0.0|      21.87|  2012|      3|\n|     VTS|2012-03-13 22:26:00|2012-03-13 22:37:00|             1|        1.34|        null|        null|-74.009907|40.706292|-74.000512| 40.71733|         1|           null|        CSH|       7.3|  0.5|   0.5|                null|      0.0|        0.0|        8.3|  2012|      3|\n|     CMT|2012-02-29 23:37:18|2012-03-01 00:05:52|             1|         8.6|        null|        null|-73.951277|40.794087|-73.968643|  40.6923|         1|              N|        CRD|      22.9|  0.5|   0.5|                null|     4.75|        0.0|      28.65|  2012|      3|\n|     VTS|2012-03-08 15:18:00|2012-03-08 15:33:00|             2|        3.24|        null|        null|-73.954052| 40.78458| -73.96647|40.753827|         1|           null|        CRD|      11.3|  0.0|   0.5|                null|      1.0|        0.0|       12.8|  2012|      3|\n|     CMT|2012-02-29 23:44:35|2012-03-01 00:10:21|             1|        13.7|        null|        null|-73.955789|40.764043| -73.97224| 40.61671|         1|              N|        CSH|      31.7|  0.5|   0.5|                null|      0.0|        4.8|       37.5|  2012|      3|\n|     VTS|2012-03-02 12:17:00|2012-03-02 12:36:00|             1|        3.62|        null|        null|-74.001298|40.741312|-73.963897|40.773907|         1|           null|        CSH|      12.9|  0.0|   0.5|                null|      0.0|        0.0|       13.4|  2012|      3|\n|     CMT|2012-02-29 23:45:12|2012-03-01 00:00:03|             1|         3.6|        null|        null|-73.974517|40.759867|-74.008417|40.725299|         1|              N|        CRD|      11.7|  0.5|   0.5|                null|     2.54|        0.0|      15.24|  2012|      3|\n|     VTS|2012-03-02 13:04:00|2012-03-02 13:11:00|             1|        0.57|        null|        null|-73.988402|40.748175|-73.990775|40.741998|         1|           null|        CRD|       4.9|  0.0|   0.5|                null|     1.22|        0.0|       6.62|  2012|      3|\n|     VTS|2012-02-29 23:55:00|2012-03-01 00:08:00|             5|         2.6|        null|        null|-73.981513|40.724653|-73.990597|40.750025|         1|           null|        CSH|      10.1|  0.5|   0.5|                null|      0.0|        0.0|       11.1|  2012|      3|\n|     VTS|2012-03-05 07:11:00|2012-03-05 07:15:00|             2|        1.27|        null|        null| -73.99096|40.745807|  -73.9932|40.758693|         1|           null|        CRD|       4.9|  0.0|   0.5|                null|      1.0|        0.0|        6.4|  2012|      3|\n|     VTS|2012-02-29 23:50:00|2012-03-01 00:03:00|             1|        2.18|        null|        null|-73.975403|40.731313| -73.99111|40.750223|         1|           null|        CRD|       8.9|  0.5|   0.5|                null|     1.88|        0.0|      11.78|  2012|      3|\n|     VTS|2012-03-08 14:31:00|2012-03-08 14:49:00|             1|        1.43|        null|        null|-73.982395|40.761025|-73.975887|40.747637|         1|           null|        CRD|      10.1|  0.0|   0.5|                null|     2.52|        0.0|      13.12|  2012|      3|\n+--------+-------------------+-------------------+--------------+------------+------------+------------+----------+---------+----------+---------+----------+---------------+-----------+----------+-----+------+--------------------+---------+-----------+-----------+------+-------+\nonly showing top 20 rows\n\n"
          ]
        }
      ],
      "execution_count": 9,
      "metadata": {
        "jupyter": {
          "source_hidden": false,
          "outputs_hidden": false
        },
        "nteract": {
          "transient": {
            "deleting": false
          }
        }
      }
    },
    {
      "cell_type": "code",
      "source": [
        "# Obtener el número de filas en el DataFrame\r\n",
        "num_filas = yellowtaxis.count()\r\n",
        "\r\n",
        "# Mostrar el número de filas\r\n",
        "print(f\"El DataFrame tiene {num_filas} filas.\")"
      ],
      "outputs": [
        {
          "output_type": "display_data",
          "data": {
            "application/vnd.livy.statement-meta+json": {
              "spark_pool": "clusterprueba",
              "statement_id": 10,
              "statement_ids": [
                10
              ],
              "state": "finished",
              "livy_statement_state": "available",
              "spark_jobs": null,
              "session_id": "0",
              "normalized_state": "finished",
              "queued_time": "2024-12-06T01:31:37.3255282Z",
              "session_start_time": null,
              "execution_start_time": "2024-12-06T01:31:37.4598651Z",
              "execution_finish_time": "2024-12-06T01:32:34.09391Z",
              "parent_msg_id": "3159fa8e-033a-485d-9aed-99309941ce9c"
            },
            "text/plain": "StatementMeta(clusterprueba, 0, 10, Finished, Available, Finished)"
          },
          "metadata": {}
        },
        {
          "output_type": "stream",
          "name": "stdout",
          "text": [
            "El DataFrame tiene 1571671152 filas.\n"
          ]
        }
      ],
      "execution_count": 10,
      "metadata": {
        "jupyter": {
          "source_hidden": false,
          "outputs_hidden": false
        },
        "nteract": {
          "transient": {
            "deleting": false
          }
        }
      }
    },
    {
      "cell_type": "code",
      "source": [
        "#### DO NOT CHANGE ANYTHING IN THIS CELL ####\r\n",
        "\r\n",
        "from pyspark.sql.functions import col\r\n",
        "\r\n",
        "def load_data():\r\n",
        "    trips = yellowtaxis\r\n",
        "    \r\n",
        "    print(\"Trip Count: \", trips.count())\r\n",
        "    lookup = lookupexample\r\n",
        "    return trips, lookup\r\n",
        "\r\n",
        "def main():\r\n",
        "    # Runs your functions implemented above.\r\n",
        "    \r\n",
        "    print(user())\r\n",
        "    trips, lookup = load_data()\r\n",
        "    trips = long_trips(trips)\r\n",
        "    mtrips = manhattan_trips(trips, lookup)\r\n",
        "    wp = weighted_profit(trips, mtrips)\r\n",
        "    final = final_output(wp,lookup)\r\n",
        "    \r\n",
        "    # Outputs the results for you to visually see\r\n",
        "    final.show()\r\n",
        "    \r\n",
        "    # Writes out as a CSV to your bucket.\r\n",
        "    #final.write.csv(bucket)"
      ],
      "outputs": [
        {
          "output_type": "display_data",
          "data": {
            "application/vnd.livy.statement-meta+json": {
              "spark_pool": "clusterprueba",
              "statement_id": 11,
              "statement_ids": [
                11
              ],
              "state": "finished",
              "livy_statement_state": "available",
              "spark_jobs": null,
              "session_id": "0",
              "normalized_state": "finished",
              "queued_time": "2024-12-06T01:36:12.9422813Z",
              "session_start_time": null,
              "execution_start_time": "2024-12-06T01:36:13.0564994Z",
              "execution_finish_time": "2024-12-06T01:36:13.2104613Z",
              "parent_msg_id": "e819e039-3d3f-4f1a-906f-c78acdbd2a3f"
            },
            "text/plain": "StatementMeta(clusterprueba, 0, 11, Finished, Available, Finished)"
          },
          "metadata": {}
        }
      ],
      "execution_count": 11,
      "metadata": {
        "jupyter": {
          "source_hidden": false,
          "outputs_hidden": false
        },
        "nteract": {
          "transient": {
            "deleting": false
          }
        }
      }
    },
    {
      "cell_type": "code",
      "source": [
        "def user():\r\n",
        "    # Returns a string consisting of your username.\r\n",
        "    return 'Jorge Arturo Uc Torres'"
      ],
      "outputs": [
        {
          "output_type": "display_data",
          "data": {
            "application/vnd.livy.statement-meta+json": {
              "spark_pool": "clusterprueba",
              "statement_id": 12,
              "statement_ids": [
                12
              ],
              "state": "finished",
              "livy_statement_state": "available",
              "spark_jobs": null,
              "session_id": "0",
              "normalized_state": "finished",
              "queued_time": "2024-12-06T01:36:29.1705759Z",
              "session_start_time": null,
              "execution_start_time": "2024-12-06T01:36:29.2986404Z",
              "execution_finish_time": "2024-12-06T01:36:29.4461544Z",
              "parent_msg_id": "10c66961-6253-452f-954d-0b54891fe15e"
            },
            "text/plain": "StatementMeta(clusterprueba, 0, 12, Finished, Available, Finished)"
          },
          "metadata": {}
        }
      ],
      "execution_count": 12,
      "metadata": {
        "jupyter": {
          "source_hidden": false,
          "outputs_hidden": false
        },
        "nteract": {
          "transient": {
            "deleting": false
          }
        }
      }
    },
    {
      "cell_type": "code",
      "source": [
        "def long_trips(trips):\r\n",
        "    # Returns a Dataframe with Schema the same as :trips:\r\n",
        "    filtered_trips = trips.filter(col(\"tripDistance\") >= 2)\r\n",
        "    return filtered_trips"
      ],
      "outputs": [
        {
          "output_type": "display_data",
          "data": {
            "application/vnd.livy.statement-meta+json": {
              "spark_pool": "clusterprueba",
              "statement_id": 13,
              "statement_ids": [
                13
              ],
              "state": "finished",
              "livy_statement_state": "available",
              "spark_jobs": null,
              "session_id": "0",
              "normalized_state": "finished",
              "queued_time": "2024-12-06T01:37:48.6271712Z",
              "session_start_time": null,
              "execution_start_time": "2024-12-06T01:37:48.7545289Z",
              "execution_finish_time": "2024-12-06T01:37:48.9105274Z",
              "parent_msg_id": "4f917ad5-02b2-47c8-9cc1-29e1b202f709"
            },
            "text/plain": "StatementMeta(clusterprueba, 0, 13, Finished, Available, Finished)"
          },
          "metadata": {}
        }
      ],
      "execution_count": 13,
      "metadata": {
        "jupyter": {
          "source_hidden": false,
          "outputs_hidden": false
        },
        "nteract": {
          "transient": {
            "deleting": false
          }
        }
      }
    },
    {
      "cell_type": "code",
      "source": [
        "from pyspark.sql import functions as F\r\n",
        "def manhattan_trips(trips, lookup):\r\n",
        "    # Returns a Dataframe with Schema: DOLocationID, pcount\r\n",
        "    manhattan_locations = lookup.filter(F.col(\"Borough\") == \"Manhattan\").select(\"LocationID\")\r\n",
        "    manhattan_trips = trips.join(manhattan_locations, trips[\"doLocationId\"] == manhattan_locations[\"LocationID\"], how=\"inner\")\r\n",
        "    result = manhattan_trips.groupBy(\"doLocationId\").agg(F.count(\"*\").alias(\"pcount\"))\r\n",
        "    result = result.orderBy(\"pcount\", ascending=False).limit(20).cache()\r\n",
        "    return result"
      ],
      "outputs": [
        {
          "output_type": "display_data",
          "data": {
            "application/vnd.livy.statement-meta+json": {
              "spark_pool": "clusterprueba",
              "statement_id": 14,
              "statement_ids": [
                14
              ],
              "state": "finished",
              "livy_statement_state": "available",
              "spark_jobs": null,
              "session_id": "0",
              "normalized_state": "finished",
              "queued_time": "2024-12-06T01:38:28.5225907Z",
              "session_start_time": null,
              "execution_start_time": "2024-12-06T01:38:28.6381294Z",
              "execution_finish_time": "2024-12-06T01:38:28.7998195Z",
              "parent_msg_id": "19ba36ea-a2d3-4787-bf06-54dc432d1717"
            },
            "text/plain": "StatementMeta(clusterprueba, 0, 14, Finished, Available, Finished)"
          },
          "metadata": {}
        }
      ],
      "execution_count": 14,
      "metadata": {
        "jupyter": {
          "source_hidden": false,
          "outputs_hidden": false
        },
        "nteract": {
          "transient": {
            "deleting": false
          }
        }
      }
    },
    {
      "cell_type": "code",
      "source": [
        "from pyspark.sql import functions as F\r\n",
        "def weighted_profit(trips, mtrips): \r\n",
        "    avg_total_amount = trips.groupBy(\"puLocationId\").agg(F.avg(\"totalAmount\").alias(\"avg_total_amount\"))\r\n",
        "    total_trip_count = trips.groupBy(\"puLocationId\").agg(F.count(\"*\").alias(\"total_trip_count\"))\r\n",
        "    trips_with_popular_dropoffs = trips.join(mtrips, trips[\"doLocationId\"] == mtrips[\"doLocationId\"], \"inner\")\r\n",
        "    count_popular_dropoffs = trips_with_popular_dropoffs.groupBy(\"puLocationId\").agg(F.count(\"*\").alias(\"count_popular_dropoffs\"))\r\n",
        "    weighted_profit_df = avg_total_amount \\\r\n",
        "        .join(total_trip_count, \"puLocationId\", \"inner\") \\\r\n",
        "        .join(count_popular_dropoffs, \"puLocationId\", \"left\")\r\n",
        "    \r\n",
        "    weighted_profit_df = weighted_profit_df.withColumn(\"proportion\", \r\n",
        "                                                      F.col(\"count_popular_dropoffs\") / F.col(\"total_trip_count\"))\r\n",
        "    \r\n",
        "    weighted_profit_df = weighted_profit_df.withColumn(\"weighted_profit\", \r\n",
        "                                                      F.col(\"avg_total_amount\") * F.col(\"proportion\"))\r\n",
        "    \r\n",
        "    weighted_profit_df = weighted_profit_df.select(\"puLocationId\", \"weighted_profit\")\r\n",
        "    \r\n",
        "    return weighted_profit_df"
      ],
      "outputs": [
        {
          "output_type": "display_data",
          "data": {
            "application/vnd.livy.statement-meta+json": {
              "spark_pool": "clusterprueba",
              "statement_id": 15,
              "statement_ids": [
                15
              ],
              "state": "finished",
              "livy_statement_state": "available",
              "spark_jobs": null,
              "session_id": "0",
              "normalized_state": "finished",
              "queued_time": "2024-12-06T01:39:18.3951435Z",
              "session_start_time": null,
              "execution_start_time": "2024-12-06T01:39:18.5363731Z",
              "execution_finish_time": "2024-12-06T01:39:18.6853531Z",
              "parent_msg_id": "5978b7ff-048a-4263-aa14-4f93902b87fb"
            },
            "text/plain": "StatementMeta(clusterprueba, 0, 15, Finished, Available, Finished)"
          },
          "metadata": {}
        }
      ],
      "execution_count": 15,
      "metadata": {
        "jupyter": {
          "source_hidden": false,
          "outputs_hidden": false
        },
        "nteract": {
          "transient": {
            "deleting": false
          }
        }
      }
    },
    {
      "cell_type": "code",
      "source": [
        "def final_output(wp, lookup): \r\n",
        "    # Returns a Dataframe with Schema: Zone, Borough, weighted_profit\r\n",
        "    joined_df = wp.join(lookup, wp[\"puLocationId\"] == lookup[\"LocationID\"], how=\"inner\")\r\n",
        "    result = joined_df.groupBy(\"Zone\", \"Borough\").agg(\r\n",
        "        F.sum(\"weighted_profit\").alias(\"weighted_income\")\r\n",
        "    )\r\n",
        "    top_20 = result.orderBy(F.desc(\"weighted_income\")).limit(20)\r\n",
        "    \r\n",
        "    return top_20"
      ],
      "outputs": [
        {
          "output_type": "display_data",
          "data": {
            "application/vnd.livy.statement-meta+json": {
              "spark_pool": "clusterprueba",
              "statement_id": 16,
              "statement_ids": [
                16
              ],
              "state": "finished",
              "livy_statement_state": "available",
              "spark_jobs": null,
              "session_id": "0",
              "normalized_state": "finished",
              "queued_time": "2024-12-06T01:39:42.6409494Z",
              "session_start_time": null,
              "execution_start_time": "2024-12-06T01:39:42.767836Z",
              "execution_finish_time": "2024-12-06T01:39:42.9191141Z",
              "parent_msg_id": "d241b382-7922-4077-8f37-4bccb7558c4c"
            },
            "text/plain": "StatementMeta(clusterprueba, 0, 16, Finished, Available, Finished)"
          },
          "metadata": {}
        }
      ],
      "execution_count": 16,
      "metadata": {
        "jupyter": {
          "source_hidden": false,
          "outputs_hidden": false
        },
        "nteract": {
          "transient": {
            "deleting": false
          }
        }
      }
    },
    {
      "cell_type": "code",
      "source": [
        "main() "
      ],
      "outputs": [
        {
          "output_type": "display_data",
          "data": {
            "application/vnd.livy.statement-meta+json": {
              "spark_pool": "clusterprueba",
              "statement_id": 17,
              "statement_ids": [
                17
              ],
              "state": "finished",
              "livy_statement_state": "available",
              "spark_jobs": null,
              "session_id": "0",
              "normalized_state": "finished",
              "queued_time": "2024-12-06T01:39:51.0828118Z",
              "session_start_time": null,
              "execution_start_time": "2024-12-06T01:39:51.2086571Z",
              "execution_finish_time": "2024-12-06T01:45:49.9702742Z",
              "parent_msg_id": "ef33ca92-9a20-4553-b26b-d3b5fac98578"
            },
            "text/plain": "StatementMeta(clusterprueba, 0, 17, Finished, Available, Finished)"
          },
          "metadata": {}
        },
        {
          "output_type": "stream",
          "name": "stdout",
          "text": [
            "Jorge Arturo Uc Torres\nTrip Count:  1571671152\n+--------------------+---------+------------------+\n|                Zone|  Borough|   weighted_income|\n+--------------------+---------+------------------+\n|        Baisley Park|   Queens|31.205081273352793|\n|       South Jamaica|   Queens|29.712567447367064|\n|Flushing Meadows-...|   Queens|23.662750316881343|\n|     Randalls Island|Manhattan|22.793999713582163|\n|             Jamaica|   Queens| 21.42248840989114|\n|Springfield Garde...|   Queens| 21.36362250031268|\n|Briarwood/Jamaica...|   Queens| 19.01179378895169|\n|   LaGuardia Airport|   Queens|18.580626766026285|\n|              Corona|   Queens|18.363637834566422|\n|         JFK Airport|   Queens|18.046507173731673|\n|        Astoria Park|   Queens|17.088652456501663|\n|         Jamaica Bay|   Queens|15.050362596914402|\n|             Maspeth|   Queens| 13.04977086839208|\n| Morningside Heights|Manhattan|12.064342534405057|\n|   Battery Park City|Manhattan|11.922662352821469|\n|        Battery Park|Manhattan| 11.85212941952887|\n|  World Trade Center|Manhattan|11.671977537599384|\n|Greenwich Village...|Manhattan|11.306603482767345|\n|        Bloomingdale|Manhattan|11.209295505959659|\n|      Central Harlem|Manhattan|11.118279995263192|\n+--------------------+---------+------------------+\n\n"
          ]
        }
      ],
      "execution_count": 17,
      "metadata": {
        "jupyter": {
          "source_hidden": false,
          "outputs_hidden": false
        },
        "nteract": {
          "transient": {
            "deleting": false
          }
        }
      }
    }
  ],
  "metadata": {
    "language_info": {
      "name": "python"
    },
    "kernelspec": {
      "name": "synapse_pyspark",
      "language": "Python",
      "display_name": "Synapse PySpark"
    },
    "kernel_info": {
      "name": "synapse_pyspark"
    },
    "save_output": true,
    "synapse_widget": {
      "version": "0.1",
      "state": {}
    }
  },
  "nbformat": 4,
  "nbformat_minor": 2
}